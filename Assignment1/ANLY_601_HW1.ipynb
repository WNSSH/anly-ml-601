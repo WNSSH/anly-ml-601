{
 "cells": [
  {
   "cell_type": "markdown",
   "metadata": {},
   "source": [
    "# Assignment 1"
   ]
  },
  {
   "cell_type": "markdown",
   "metadata": {},
   "source": [
    "## Guanzhi Wang"
   ]
  },
  {
   "cell_type": "markdown",
   "metadata": {},
   "source": [
    "### Exercise 1"
   ]
  },
  {
   "cell_type": "markdown",
   "metadata": {},
   "source": [
    "(1)"
   ]
  },
  {
   "cell_type": "markdown",
   "metadata": {},
   "source": [
    "The likelihood function is $$L\\left(\\theta \\right)={\\left(1-\\theta \\right)}^{{x}_{1}-1}\\theta {\\left(1-\\theta \\right)}^{{x}_{2}-1}\\theta...{\\left(1-\\theta \\right)}^{{x}_{n}-1}\\theta ={\\theta}^{n}{\\left(1-\\theta \\right)}^{\\sum_{1}^{n}{x}_{i}-n}$$\n",
    "\n",
    "Thus, taking log, we have: $$lnL\\left(\\theta \\right)= nln{\\theta}+\\left(\\sum_{1}^{n}{x}_{i}-n \\right)ln{\\left(1-\\theta \\right)}.$$\n",
    "\n",
    "Let $$\\frac{d\\left[lnL\\left(\\theta \\right)\\right]}{d\\theta}=\\frac{n}{\\theta} -\\frac{\\left(\\sum_{1}^{n}{x}_{i}-n \\right)}{\\left(1-\\theta \\right)}=0,$$\n",
    "\n",
    "we have $$\\theta=\\frac{n}{\\left(\\sum_{1}^{n}{x}_{i} \\right)}.$$\n",
    "\n",
    "So the maximum likelihood estimator of $\\theta$ is $$\\frac{1}{X}.$$"
   ]
  },
  {
   "cell_type": "markdown",
   "metadata": {},
   "source": [
    "(2)\n",
    "\n",
    "Let $b-a=\\theta$, we have the likelihood function: $$L(\\theta) = \\prod_{i=1}^{n} f(xi) = \\prod_{i=1}^{n} \\frac{1}{\\theta} = \\theta{}^{-n}.$$\n",
    "\n",
    "Take log, we have $$lnL(\\theta) = -n ln (\\theta).$$\n",
    "\n",
    "Same as (1), we will get $$\\frac{d}{d\\theta} ln L(\\theta) = \\frac{-n}{\\theta}=L(b-a)=\\frac{-n}{b-a},$$\n",
    "\n",
    "So $$\\frac {\\partial \\ln L(a,b)}{\\partial a} = \\frac {n}{b-a}\\\\ \\frac {\\partial \\ln L(a,b)}{\\partial b} = \\frac {n}{a-b}.$$\n"
   ]
  },
  {
   "cell_type": "markdown",
   "metadata": {},
   "source": [
    "The estimator for a,b are $min(x_i),\\space max(x_i)$.\n"
   ]
  },
  {
   "cell_type": "markdown",
   "metadata": {},
   "source": [
    "### Exercise 2"
   ]
  },
  {
   "cell_type": "markdown",
   "metadata": {},
   "source": [
    "(1)\n",
    "\n",
    "The L2 loss function is $$\\sum_{i=1}^n (y_i-\\hat y_i)$$\n",
    "For Normal distribution, $$f(x_{1},x_{2},\\dots,x_{n}|\\sigma,\\mu)=L(\\mu,\\space\\sigma)=(\\frac{1}{\\sigma\\sqrt{2\\pi}})^{n}e^{-\\frac{1}{2\\sigma^{2}}\\sum_{i=1}^{n}(x_{i}-\\mu)^{2}}$$\n",
    "\n",
    "The negative log likelihood is $$-ln L(\\mu,\\space \\sigma)=-\\frac{n}{2}\\log(2\\pi)-n\\log\\sigma-\\frac{1}{2\\sigma^{2}}\\sum_{i=1}^{n}(x_{i}-\\mu)^{2}.$$\n",
    "\n",
    "Since we already know $\\sigma$, the negative log likelihood can be written as $$c-\\frac{1}{2\\sigma^{2}}\\sum_{i=1}^{n}(x_{i}-\\mu)^{2},$$\n",
    "\n",
    "which is equivalent to the L2 loss function."
   ]
  },
  {
   "cell_type": "markdown",
   "metadata": {},
   "source": [
    "(2)\n",
    "\n",
    "Easy to know the log likelihood function for $f(y) = \\frac{1}{2b}\\exp^{-\\frac{\\mid{y-\\mu}\\mid}{b}}$ is $$l(y)=n\\log{\\frac{1}{2b}}-\\frac{\\sum \\mid y_i-\\mu\\mid}{b}.$$\n",
    "\n",
    "Take out the constant, we know it is equivalent to L1 loss function."
   ]
  },
  {
   "cell_type": "markdown",
   "metadata": {},
   "source": [
    "### Exercise 3"
   ]
  },
  {
   "cell_type": "markdown",
   "metadata": {},
   "source": [
    "(1)\n",
    "\n",
    "Unbias means $E(\\theta)-\\theta=0$. Which means Mse is no less than $Var(\\hat\\theta)$.\n",
    "Thus, the mean is optimal decision rule for the MSE."
   ]
  },
  {
   "cell_type": "markdown",
   "metadata": {},
   "source": [
    "(2)\n",
    "\n",
    "MAE=$\\frac{1}{n}\\sum|y_i-\\hat y_i|.$\n",
    "\n",
    "To minimize it, we'd like to minimize the  sum of distance between each points. Thus, we find median is the optimal decision rule for the mean absolute error."
   ]
  },
  {
   "cell_type": "markdown",
   "metadata": {},
   "source": [
    "### Exercise 4"
   ]
  },
  {
   "cell_type": "markdown",
   "metadata": {},
   "source": [
    "(1)\n",
    "\n",
    "Y={0,1}, $p \\in [0,1]$.\n",
    "Since the cross entropy loss function is second order differentiable, for $$f(p)=-ylog(p),$$\n",
    "\n",
    "$f''(p)=\\frac{y}{p^2}\\geq 0$.\n",
    "\n",
    "For $$g(p)=-(1-y)log(1-p),$$\n",
    "\n",
    "$g''(p)=\\frac{1-y}{(1-p)^2}\\geq 0.$\n",
    "\n",
    "So both two functions are convex, then $L(y,\\space p)$ is also convex."
   ]
  },
  {
   "cell_type": "markdown",
   "metadata": {},
   "source": [
    "(2)\n",
    "\n",
    "Like (1), $$L''(y,\\space p)=2(y-p)\\leq 0.$$\n",
    "\n",
    "Thus, the mean squared error loss is not convex."
   ]
  },
  {
   "cell_type": "markdown",
   "metadata": {},
   "source": [
    "### Exercise 5"
   ]
  },
  {
   "cell_type": "markdown",
   "metadata": {},
   "source": [
    "(1)\n",
    "\n",
    "According to the email, skipped."
   ]
  },
  {
   "cell_type": "markdown",
   "metadata": {},
   "source": [
    "(2)\n",
    "\n",
    "First, we have $$logit(f_\\theta(x)) = \\theta_0 + \\theta_1 x,$$\n",
    "\n"
   ]
  },
  {
   "cell_type": "code",
   "execution_count": 44,
   "metadata": {},
   "outputs": [
    {
     "data": {
      "text/plain": [
       "[<matplotlib.lines.Line2D at 0x113331ac8>]"
      ]
     },
     "execution_count": 44,
     "metadata": {},
     "output_type": "execute_result"
    },
    {
     "data": {
      "image/png": "[encoded data removed]",
      "text/plain": [
       "<Figure size 432x288 with 1 Axes>"
      ]
     },
     "metadata": {
      "needs_background": "light"
     },
     "output_type": "display_data"
    }
   ],
   "source": [
    "import matplotlib.pyplot as plt\n",
    "import numpy as np\n",
    "\n",
    "x = np.linspace(1, 10, 100)\n",
    "\n",
    "theta_0 = 0\n",
    "theta_1 = 1\n",
    "theta_x=theta_0+theta_1*x\n",
    "f_theta_x=1/(1+np.exp(-theta_x))\n",
    "logit_f_theta_x=theta_x\n",
    "plt.title(\"theta_0=0, theta_1=1\")\n",
    "plt.plot(x,logit_f_theta_x,\"r\")\n",
    "plt.plot(x,f_theta_x,\"b\")"
   ]
  },
  {
   "cell_type": "code",
   "execution_count": 45,
   "metadata": {},
   "outputs": [
    {
     "data": {
      "text/plain": [
       "[<matplotlib.lines.Line2D at 0x1133fc320>]"
      ]
     },
     "execution_count": 45,
     "metadata": {},
     "output_type": "execute_result"
    },
    {
     "data": {
      "image/png": "[encoded data removed]",
      "text/plain": [
       "<Figure size 432x288 with 1 Axes>"
      ]
     },
     "metadata": {
      "needs_background": "light"
     },
     "output_type": "display_data"
    }
   ],
   "source": [
    "theta_0 = 0\n",
    "theta_1 = -2\n",
    "theta_x=theta_0+theta_1*x\n",
    "f_theta_x=1/(1+np.exp(-theta_x))\n",
    "logit_f_theta_x=theta_x\n",
    "plt.title(\"theta_0=\"+str(theta_0)+\", theta_1=\"+str(theta_1))\n",
    "plt.plot(x,logit_f_theta_x,\"r\")\n",
    "plt.plot(x,f_theta_x,\"b\")"
   ]
  },
  {
   "cell_type": "code",
   "execution_count": 46,
   "metadata": {},
   "outputs": [
    {
     "data": {
      "text/plain": [
       "[<matplotlib.lines.Line2D at 0x1134ccf28>]"
      ]
     },
     "execution_count": 46,
     "metadata": {},
     "output_type": "execute_result"
    },
    {
     "data": {
      "image/png": "[encoded data removed]",
      "text/plain": [
       "<Figure size 432x288 with 1 Axes>"
      ]
     },
     "metadata": {
      "needs_background": "light"
     },
     "output_type": "display_data"
    }
   ],
   "source": [
    "theta_0 = 0.5\n",
    "theta_1 = 1\n",
    "theta_x=theta_0+theta_1*x\n",
    "f_theta_x=1/(1+np.exp(-theta_x))\n",
    "logit_f_theta_x=theta_x\n",
    "plt.title(\"theta_0=\"+str(theta_0)+\", theta_1=\"+str(theta_1))\n",
    "plt.plot(x,logit_f_theta_x,\"r\")\n",
    "plt.plot(x,f_theta_x,\"b\")"
   ]
  },
  {
   "cell_type": "code",
   "execution_count": 42,
   "metadata": {},
   "outputs": [
    {
     "data": {
      "text/plain": [
       "[<matplotlib.lines.Line2D at 0x113207a90>]"
      ]
     },
     "execution_count": 42,
     "metadata": {},
     "output_type": "execute_result"
    },
    {
     "data": {
      "image/png": "[encoded data removed]",
      "text/plain": [
       "<Figure size 432x288 with 1 Axes>"
      ]
     },
     "metadata": {
      "needs_background": "light"
     },
     "output_type": "display_data"
    }
   ],
   "source": [
    "theta_0 = 0\n",
    "theta_1 = 0\n",
    "theta_x=theta_0+theta_1*x\n",
    "f_theta_x=1/(1+np.exp(-theta_x))\n",
    "logit_f_theta_x=theta_x\n",
    "plt.title(\"theta_0=\"+str(theta_0)+\", theta_1=\"+str(theta_1))\n",
    "plt.plot(x,logit_f_theta_x,\"r\")\n",
    "plt.plot(x,f_theta_x,\"b\")"
   ]
  },
  {
   "cell_type": "markdown",
   "metadata": {},
   "source": [
    "Easy to find $f\\theta(x) ∼ logistic(\\theta·x)=\\beta X$, which means $\\theta x$ defines a decision boundary. Also, the logit theta x function is monotonous, thus, $\\theta_0+\\theta_1*x$ is a linear seperating hyperplane."
   ]
  },
  {
   "cell_type": "markdown",
   "metadata": {},
   "source": [
    "### Exercise 6"
   ]
  },
  {
   "cell_type": "markdown",
   "metadata": {},
   "source": [
    "For Normal Distribution with unknown mean and known variance, we have $$f(x_1,...x_n|\\mu)=(2\\pi)^{\\frac{-n}{2}}\\sigma^{-n}exp(\\frac{-1}{2\\sigma^2}\\sum^n_{i=1}x_i^2+\\frac{\\mu}{\\sigma^2}\\sum^n_{i=1}x_i-\\frac{n\\mu^2}{2\\sigma^2}).$$\n",
    "\n",
    "So let $$\\mu(x_1...x_n)=(2\\pi)^{\\frac{-n}{2}}\\sigma^{-n}exp(\\frac{-1}{2\\sigma^2}\\sum^n_{i=1}x_i^2),$$\n",
    "\n",
    "we could also transform the function to $$v(k,\\mu)=exp(-\\frac{n\\mu^2}{2\\sigma^2}+\\frac{\\mu}{\\sigma^2}k),$$\n",
    "\n",
    "where $$k=\\sum^n_{i=1}x_i.$$\n",
    "\n",
    "By the factorization theorem this shows that k is a sufficient statistic."
   ]
  },
  {
   "cell_type": "markdown",
   "metadata": {},
   "source": [
    "### Exercise 7"
   ]
  },
  {
   "cell_type": "markdown",
   "metadata": {},
   "source": [
    "(1)\n",
    "From the question we have:\n",
    "\n",
    "1 ${X_i}^n_{i=1}$ be independent and identically distributed observations.\n",
    "\n",
    "2 $X_1 = Z_1 + \\theta, ..., X_n = Z_n + \\theta$.\n",
    "\n",
    "3 $min_i(X_i) = min_i(Z_i + \\theta), max_i(X_i) = max_i(Z_i + \\theta), where\\space {Z_i}^n_{i=1}$ are independent and identically distributed observations from F(x).\n",
    "\n",
    "So $R=max_i(X_i) - min_i(X_i)=max_i(Z_i) - min_i(Z_i)$ is irrelevant with local parameter. Which means R is ancilliary and not related with theta."
   ]
  },
  {
   "cell_type": "markdown",
   "metadata": {},
   "source": [
    "### Exercise 8"
   ]
  },
  {
   "cell_type": "markdown",
   "metadata": {},
   "source": [
    "First, The $N(\\mu, \\sigma^2) \\space family \\space with \\space \\theta = (\\mu, \\sigma^2)$ is a 2pef with $$w(\\theta)= (\\frac{\\mu}{\\sigma^2},\\frac{-1}{2\\sigma^2}) , t(x)=(x,x^2).$$\n",
    "\n",
    "In our case, $\\mu=\\sigma$."
   ]
  },
  {
   "cell_type": "markdown",
   "metadata": {},
   "source": [
    "Then $T(X) = (\\sum^􏰉n_{i=1} X_i,\\sum^􏰉n_{i=1}X_i^2)$ is the natural SS."
   ]
  },
  {
   "cell_type": "markdown",
   "metadata": {},
   "source": [
    "Then T(X) is a one-to-one function of $U(X) = (\\bar x,s^2)$."
   ]
  },
  {
   "cell_type": "markdown",
   "metadata": {},
   "source": [
    "Let $g(x_1,x_2)=x_1^2-x_2$, then $$E(g(U))=E(\\bar x^2-s^2)=\\mu^2-mu^2=0.$$\n",
    "\n",
    "However, g(U) is not trivially 0. So $N(\\mu, \\sigma^2)$ has a sufficient statistic but is not complete."
   ]
  },
  {
   "cell_type": "markdown",
   "metadata": {},
   "source": [
    "### Exercise 9"
   ]
  },
  {
   "cell_type": "markdown",
   "metadata": {},
   "source": [
    "For Poisson distribution,\n",
    "$$p(x|\\lambda)=\\frac{\\lambda^xe^{-\\lambda}}{x!}\\\\ p(x|\\lambda)=\\frac{1}{x!}exp(xlog\\lambda -\\lambda),$$\n",
    "\n",
    "Where $\\eta = log\\lambda, T(x) = x, A(\\eta) = \\lambda=e^\\eta, h(x) =\\frac{1}{x!}$. Problem proved."
   ]
  },
  {
   "cell_type": "markdown",
   "metadata": {},
   "source": [
    "### Exercise 10"
   ]
  },
  {
   "cell_type": "markdown",
   "metadata": {},
   "source": [
    "From the property of regular exponential family we have $$B(\\eta)=log\\int_xh(x)e^{\\eta T(X)}dx.$$\n",
    "\n",
    "Thus, $$\\frac{\\partial B(\\eta)}{\\partial \\eta_i}=E_i(T_i(X))=\\frac{\\int_xT_i(X)h(x)e^{\\eta T(X)}dx}{\\int_xh(x)e^{\\eta T(X)}dx}.$$\n",
    "\n",
    "Also, $$Cov_\\eta(T_i(X),T_j(X))=E_\\eta[T_i(X)T_j(X)]-E_\\eta[T_i(X)]E_\\eta[T_j(X)] \\\\ =\\frac{\\int_xT_i(X)T_j(X)h(x)e^{\\eta T(X)}dx}{\\int_xh(x)e^{\\eta T(X)}dx}-\\frac{\\frac{\\partial}{\\partial \\eta_i}*\\frac{\\partial }{\\partial \\eta_j}}{(\\int_xh(x)e^{\\eta T(X)}dx)^2}.$$\n",
    "\n",
    "Easy to find $$\\frac{\\int_xT_i(X)T_j(X)h(x)e^{\\eta T(X)}dx}{\\int_xh(x)e^{\\eta T(X)}dx}-\\frac{\\frac{\\partial}{\\partial \\eta_i}*\\frac{\\partial}{\\partial \\eta_j}}{(\\int_xh(x)e^{\\eta T(X)}dx)^2}=\\frac{\\partial B(\\eta)}{\\partial \\eta_i \\partial \\eta j}.$$\n",
    "\n",
    "Problem proved."
   ]
  },
  {
   "cell_type": "markdown",
   "metadata": {},
   "source": [
    "### Exercise 11"
   ]
  },
  {
   "cell_type": "markdown",
   "metadata": {},
   "source": [
    "Easy to know, $$X \\sim \\operatorname{Bin}(n,p).$$\n",
    "\n",
    "Thus, $$E[X^2] = \\operatorname{Var}(X) + E[X]^2= np(1-p) + n^2 p^2 = np(1-p+np).$$\n",
    "\n",
    "In this case,$$E[{\\hat p}^2]=\\frac{1}{n^2} E[X^2]=\\frac{p(1-p+np)}{n}.$$\n",
    "\n",
    "By CLT and Delta Method, we have $$\\sqrt{n}(\\hat{p}-p) \\overset{d}{\\to} N(0,p(1-p)) \\Rightarrow \\\\ \\sqrt{n}(\\hat{p}(1-\\hat{p})-p(1-p)) \\overset{d}{\\to} N(0,p(1-p)(1-2p)^2).$$\n",
    "\n",
    "Problem proved."
   ]
  },
  {
   "cell_type": "markdown",
   "metadata": {},
   "source": [
    "### Exercise 12"
   ]
  },
  {
   "cell_type": "markdown",
   "metadata": {},
   "source": [
    "(1)\n",
    "$$H(X,Y)=-\\sum_x\\sum_yP(x,y)logP(x,y)=-2*(1/4*log2(1/4)+1/6*log2(1/6)+1/12*log2(1/12))=2.46$$"
   ]
  },
  {
   "cell_type": "markdown",
   "metadata": {},
   "source": [
    "(2)\n",
    "\n",
    "$$H(Y|X)=(-2*(1/4*log2(1/4)+3/4*log2(3/4))-1*log2(1/2))/3=0.87$$"
   ]
  },
  {
   "cell_type": "markdown",
   "metadata": {},
   "source": [
    "(3)\n",
    "\n",
    "$$H(X)=-\\sum p(x)log(p(x))=1.58.$$\n",
    "\n",
    "So $H(X,Y)=H(X)+H(Y|X)$."
   ]
  },
  {
   "cell_type": "markdown",
   "metadata": {},
   "source": [
    "### Exercise 13"
   ]
  },
  {
   "cell_type": "markdown",
   "metadata": {},
   "source": [
    "$$\\begin{align}\n",
    "H[x] = -\\int_{-\\infty}^{+\\infty}N(x|\\mu,\\Sigma)\\ln(N(x|\\mu,\\Sigma)) dx \\\\\n",
    "= -E[\\ln(N(x|\\mu,\\Sigma))]\\\\\n",
    "= -E[\\ln((2\\pi)^{-\\frac{D}{2}} |\\Sigma|^{-\\frac12} e^{-\\frac12(x - \\mu)^T\\Sigma^{-1}(x - \\mu)})] \\\\\n",
    "= \\frac{D}{2}\\ln(2\\pi) + \\frac12\\ln |\\Sigma| + \\frac12E[(x - \\mu)^T\\Sigma^{-1}(x - \\mu)].\n",
    "\\end{align}$$\n",
    "\n",
    "Simplify the formula, we have $$\\begin{align}\n",
    "H[x] = \\frac12\\ln|\\Sigma| + \\frac{D}{2}(1 + \\ln(2\\pi))\n",
    "\\end{align},$$\n",
    "\n",
    "where D is dimensionality of $x$."
   ]
  },
  {
   "cell_type": "markdown",
   "metadata": {},
   "source": [
    "### Extra credit"
   ]
  },
  {
   "cell_type": "markdown",
   "metadata": {},
   "source": []
  }
 ],
 "metadata": {
  "kernelspec": {
   "display_name": "Python 3",
   "language": "python",
   "name": "python3"
  },
  "language_info": {
   "codemirror_mode": {
    "name": "ipython",
    "version": 3
   },
   "file_extension": ".py",
   "mimetype": "text/x-python",
   "name": "python",
   "nbconvert_exporter": "python",
   "pygments_lexer": "ipython3",
   "version": "3.6.8"
  }
 },
 "nbformat": 4,
 "nbformat_minor": 2
}
