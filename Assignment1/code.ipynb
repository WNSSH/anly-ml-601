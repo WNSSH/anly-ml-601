import matplotlib.pyplot as plt
import numpy as np

x = np.linspace(1, 10, 100)

theta_0 = 0
theta_1 = 1
theta_x=theta_0+theta_1*x
f_theta_x=1/(1+np.exp(-theta_x))
logit_f_theta_x=theta_x
plt.title("theta_0=0, theta_1=1")
plt.plot(x,logit_f_theta_x,"r")
plt.plot(x,f_theta_x,"b")

theta_0 = 0
theta_1 = -2
theta_x=theta_0+theta_1*x
f_theta_x=1/(1+np.exp(-theta_x))
logit_f_theta_x=theta_x
plt.title("theta_0="+str(theta_0)+", theta_1="+str(theta_1))
plt.plot(x,logit_f_theta_x,"r")
plt.plot(x,f_theta_x,"b")
